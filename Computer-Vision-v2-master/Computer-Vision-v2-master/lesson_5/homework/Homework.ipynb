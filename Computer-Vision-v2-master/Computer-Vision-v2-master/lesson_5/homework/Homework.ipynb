{
 "cells": [
  {
   "cell_type": "markdown",
   "metadata": {},
   "source": [
    "# HOMEWORK 5\n",
    "\n",
    "In this homework you are going to implement the **Floyd-Steinberg dithering** algorithm. Dithering, in general, means that we are adding noise to the signal (in our case digital image) in order to perceive it better. In other words, by adding the noise the objective quality will be worse but the subjective quality will be better (i.e. the image will \"look\" better).\n",
    "\n",
    "The details of FS dithering can be found in this [wiki](https://en.wikipedia.org/wiki/Floyd%E2%80%93Steinberg_dithering) page. In order to implement the dithering, we will implement the following steps:\n",
    "* Define colour pallette\n",
    "* Quantize the image to obtain the baseline and compute the average quantization error\n",
    "* Implement FS dithering and compute the average quantization error\n",
    "\n",
    "You will also have to answer the question at the end of this notebook.\n",
    "\n",
    "Note: In this homework, you will have the chance to earn some extra points. See the \"Bonus\" section at the end of the notebook. Good luck!\n",
    "\n",
    "As always, you are encouraged to use your own images :-)"
   ]
  },
  {
   "cell_type": "code",
   "execution_count": null,
   "metadata": {},
   "outputs": [],
   "source": [
    "import cv2\n",
    "import math\n",
    "import numpy as np\n",
    "from matplotlib import pyplot as plt\n",
    "plt.rcParams['figure.figsize'] = [15, 10]"
   ]
  },
  {
   "cell_type": "markdown",
   "metadata": {},
   "source": [
    "Let's load the image."
   ]
  },
  {
   "cell_type": "code",
   "execution_count": null,
   "metadata": {},
   "outputs": [],
   "source": [
    "# Load image\n",
    "img = cv2.imread('..data/kodim23.png')\n",
    "# Convert it to RGB\n",
    "img =\n",
    "# Plot it\n",
    "plt.imshow(img)"
   ]
  },
  {
   "cell_type": "markdown",
   "metadata": {},
   "source": [
    "Let's start with gray tones first."
   ]
  },
  {
   "cell_type": "code",
   "execution_count": null,
   "metadata": {},
   "outputs": [],
   "source": [
    "# Black, dark gray, light gray, white\n",
    "colors = np.array([[0, 0, 0],\n",
    "                   [64, 64, 64],\n",
    "                   [192, 192, 192],\n",
    "                   [255, 255, 255]])"
   ]
  },
  {
   "cell_type": "markdown",
   "metadata": {},
   "source": [
    "Using the colour pallette, let's quantize the original image."
   ]
  },
  {
   "cell_type": "code",
   "execution_count": null,
   "metadata": {},
   "outputs": [],
   "source": [
    "# Cast the image to float\n",
    "img =\n",
    "\n",
    "# Prepare for quantization\n",
    "rows, cols, channels = img.shape\n",
    "quantized = np.zeros_like(img)\n",
    "\n",
    "# Apply quantization\n",
    "for r in range(rows):\n",
    "    for c in range(cols):\n",
    "        # Extract the original pixel value\n",
    "        pixel =\n",
    "        \n",
    "        # Find the closest colour from the pallette (using absolute value/Euclidean distance)\n",
    "        # Note: You may need more than one line of code here\n",
    "        new_pixel =  \n",
    "        \n",
    "        # Apply quantization\n",
    "        quantized[r, c, :] = new_pixel"
   ]
  },
  {
   "cell_type": "code",
   "execution_count": null,
   "metadata": {
    "scrolled": true
   },
   "outputs": [],
   "source": [
    "# Show quantized image (don't forget to cast back to uint8)\n",
    "plt.imshow(...)"
   ]
  },
  {
   "cell_type": "code",
   "execution_count": null,
   "metadata": {},
   "outputs": [],
   "source": [
    "# Compute average quantization error\n",
    "avg_quant_error = "
   ]
  },
  {
   "cell_type": "markdown",
   "metadata": {},
   "source": [
    "#### Floyd-Steinberg Dithering\n",
    "We are now going to implement the FS dithering and compare it to the optimally quantized image we have calculated above."
   ]
  },
  {
   "cell_type": "code",
   "execution_count": null,
   "metadata": {
    "scrolled": true
   },
   "outputs": [],
   "source": [
    "# Make a temporal copy of the original image, we will need it for error diffusion\n",
    "img_tmp = np.copy(img)\n",
    "dithering = np.zeros_like(img)\n",
    "\n",
    "for r in range(1, rows-1):\n",
    "    for c in range(1, cols-1):\n",
    "        # Extract the original pixel value\n",
    "        pixel =\n",
    "        # Find the closest colour from the pallette (using absolute value/Euclidean distance)\n",
    "        # Note: You may need more than one line of code here\n",
    "        new_pixel =         \n",
    "        \n",
    "        # Compute quantization error\n",
    "        quant_error =\n",
    "        \n",
    "        # Diffuse the quantization error accroding to the FS diffusion matrix\n",
    "        # Note: You may need more than one line of code here\n",
    "        img_tmp = \n",
    "        \n",
    "        # Apply dithering\n",
    "        dithering[r, c, :] = new_pixel"
   ]
  },
  {
   "cell_type": "code",
   "execution_count": null,
   "metadata": {},
   "outputs": [],
   "source": [
    "# Show quantized image (don't forget to cast back to uint8)\n",
    "plt.subplot(121), plt.imshow(...)   # optimally quantized\n",
    "plt.subplot(122), plt.imshow(...)   # dithering"
   ]
  },
  {
   "cell_type": "code",
   "execution_count": null,
   "metadata": {},
   "outputs": [],
   "source": [
    "# Compute average quantization error for dithered image\n",
    "avg_dith_error = "
   ]
  },
  {
   "cell_type": "markdown",
   "metadata": {},
   "source": [
    "### Questions\n",
    "* Which image has higher quantization error? Optimally quantized or dithered?\n",
    "* Which image looks better to you?\n",
    "* Can you repeat the same process using only two colours: black and white? Show me :-)"
   ]
  },
  {
   "cell_type": "markdown",
   "metadata": {},
   "source": [
    "### Bonus Points\n",
    "\n",
    "Repeat the homework using a diffrerent image pallette. For instance, you can use an optimal colour\n",
    "pallette that we can calculate via k-means algorithm. The following snippet of code will give you the 16\n",
    "optimal colours for your original image."
   ]
  },
  {
   "cell_type": "code",
   "execution_count": null,
   "metadata": {},
   "outputs": [],
   "source": [
    "from sklearn.cluster import KMeans\n",
    "kmeans = KMeans(n_clusters=16).fit(np.reshape(img, (-1, 1)))\n",
    "colors = kmeans.cluster_centers_"
   ]
  },
  {
   "cell_type": "markdown",
   "metadata": {},
   "source": [
    "Apply FS dithering the same way you did before.\n",
    "* How does the result look like to you?\n",
    "* What happens if we use 32 colours?\n",
    "* And what happens if we use 256 colours?"
   ]
  }
 ],
 "metadata": {
  "kernelspec": {
   "display_name": "cv",
   "language": "python",
   "name": "cv"
  },
  "language_info": {
   "codemirror_mode": {
    "name": "ipython",
    "version": 3
   },
   "file_extension": ".py",
   "mimetype": "text/x-python",
   "name": "python",
   "nbconvert_exporter": "python",
   "pygments_lexer": "ipython3",
   "version": "3.8.10"
  }
 },
 "nbformat": 4,
 "nbformat_minor": 4
}
