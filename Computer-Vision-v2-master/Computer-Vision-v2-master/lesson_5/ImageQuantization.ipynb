{
 "cells": [
  {
   "cell_type": "markdown",
   "metadata": {},
   "source": [
    "### Image Quantization\n",
    "\n",
    "Normal RGB image representation (with 8 bit depth per channel) yields more than 16 millions combinations (different colours). Is that many really necessary? Let's have a look."
   ]
  },
  {
   "cell_type": "code",
   "execution_count": null,
   "metadata": {},
   "outputs": [],
   "source": [
    "import cv2\n",
    "import math\n",
    "import numpy as np\n",
    "from matplotlib import pyplot as plt\n",
    "plt.rcParams['figure.figsize'] = [15, 10]"
   ]
  },
  {
   "cell_type": "code",
   "execution_count": null,
   "metadata": {},
   "outputs": [],
   "source": [
    "img = cv2.imread('data/kodim05.png') # kodim02\n",
    "img = cv2.cvtColor(img, cv2.COLOR_BGR2RGB)\n",
    "plt.imshow(img)"
   ]
  },
  {
   "cell_type": "markdown",
   "metadata": {},
   "source": [
    "Let us now count the different colours in the picture."
   ]
  },
  {
   "cell_type": "code",
   "execution_count": null,
   "metadata": {},
   "outputs": [],
   "source": [
    "from tqdm import tqdm\n",
    "\n",
    "rows, cols, channels = img.shape\n",
    "colors = []\n",
    "\n",
    "for r in tqdm(range(rows)):\n",
    "    for c in range(cols):\n",
    "        pixel = list(img[r, c, :])\n",
    "        if pixel not in colors:\n",
    "            colors.append(pixel)\n",
    "            \n",
    "print(rows*cols, len(color))"
   ]
  },
  {
   "cell_type": "code",
   "execution_count": null,
   "metadata": {},
   "outputs": [],
   "source": [
    "# Let's count the different colours in a celever way :-)\n",
    "pixels = np.reshape(img, (-1, 3))\n",
    "pixels = [tuple(p) for p in pixels]\n",
    "print('Number of pixels', rows*cols, len(pixels))"
   ]
  },
  {
   "cell_type": "code",
   "execution_count": null,
   "metadata": {},
   "outputs": [],
   "source": [
    "from collections import Counter\n",
    "colors = Counter(pixels)\n",
    "colors"
   ]
  },
  {
   "cell_type": "code",
   "execution_count": null,
   "metadata": {
    "scrolled": true
   },
   "outputs": [],
   "source": [
    "print('Number of pixels', rows*cols)\n",
    "print('Number of colors', len(colors))\n",
    "print('Ratio of colors ', len(colors)/2**24)"
   ]
  },
  {
   "cell_type": "markdown",
   "metadata": {},
   "source": [
    "### Uniform Quantization\n",
    "\n",
    "Instead of using 255 (8 bits) different levels for **each** of the colour channels, let's use a coarser resolution, e.g., [0, 4, 8, 12, ...]"
   ]
  },
  {
   "cell_type": "code",
   "execution_count": null,
   "metadata": {},
   "outputs": [],
   "source": [
    "quantized = np.copy(img)\n",
    "step = 16\n",
    "\n",
    "# Since we know for loops are slow in python, let's make use of numy power :-)\n",
    "quantized = (np.floor(quantized/step)*step).astype(np.uint8)\n",
    "\n",
    "plt.subplot(121), plt.imshow(img)\n",
    "plt.subplot(122), plt.imshow(quantized)\n",
    "\n",
    "print('Quantized image is', step, 'times smaller.')\n",
    "print('Original color pallette:', 2**24)\n",
    "print('Original color pallette:', (2**24)//16)"
   ]
  },
  {
   "cell_type": "code",
   "execution_count": null,
   "metadata": {},
   "outputs": [],
   "source": [
    "plt.imshow(quantized)"
   ]
  }
 ],
 "metadata": {
  "kernelspec": {
   "display_name": "cv",
   "language": "python",
   "name": "cv"
  },
  "language_info": {
   "codemirror_mode": {
    "name": "ipython",
    "version": 3
   },
   "file_extension": ".py",
   "mimetype": "text/x-python",
   "name": "python",
   "nbconvert_exporter": "python",
   "pygments_lexer": "ipython3",
   "version": "3.8.10"
  }
 },
 "nbformat": 4,
 "nbformat_minor": 4
}
