{
 "cells": [
  {
   "cell_type": "markdown",
   "metadata": {},
   "source": [
    "### Affine Transform\n",
    "\n",
    "In this notebook we are going to illustrate the working principle of affine transformations."
   ]
  },
  {
   "cell_type": "code",
   "execution_count": 1,
   "metadata": {},
   "outputs": [],
   "source": [
    "import cv2\n",
    "import math\n",
    "import numpy as np\n",
    "from matplotlib import pyplot as plt\n",
    "plt.rcParams['figure.figsize'] = [15, 10]"
   ]
  },
  {
   "cell_type": "code",
   "execution_count": 2,
   "metadata": {},
   "outputs": [],
   "source": [
    "img = cv2.imread('data/image2_res.jpg')\n",
    "img = cv2.cvtColor(img, cv2.COLOR_BGR2RGB)\n",
    "rows, cols, _ = img.shape"
   ]
  },
  {
   "cell_type": "markdown",
   "metadata": {},
   "source": [
    "Let's start with zoom (scaling)."
   ]
  },
  {
   "cell_type": "code",
   "execution_count": 3,
   "metadata": {},
   "outputs": [],
   "source": [
    "zoom = 1.75\n",
    "map_x = np.zeros((rows, cols), dtype=np.float32)\n",
    "map_y = np.zeros((rows, cols), dtype=np.float32)\n",
    "\n",
    "for r in range(rows):\n",
    "    for c in range(cols):\n",
    "        map_x[r, c] = c*1/zoom\n",
    "        map_y[r, c] = r*1/zoom"
   ]
  },
  {
   "cell_type": "markdown",
   "metadata": {},
   "source": [
    "The coordinates are no longer integer and, as such, they cannot be displayed nor efficiently stored. Therefore, the image needs to be **resampled** to integer pixel positions."
   ]
  },
  {
   "cell_type": "code",
   "execution_count": 4,
   "metadata": {},
   "outputs": [
    {
     "name": "stdout",
     "output_type": "stream",
     "text": [
      "Map x\n",
      "[[285.7143  286.2857  286.85715 287.42856 288.     ]\n",
      " [285.7143  286.2857  286.85715 287.42856 288.     ]\n",
      " [285.7143  286.2857  286.85715 287.42856 288.     ]\n",
      " [285.7143  286.2857  286.85715 287.42856 288.     ]\n",
      " [285.7143  286.2857  286.85715 287.42856 288.     ]]\n",
      "\n",
      "Map y\n",
      "[[285.7143  286.2857  286.85715 287.42856 288.     ]\n",
      " [285.7143  286.2857  286.85715 287.42856 288.     ]\n",
      " [285.7143  286.2857  286.85715 287.42856 288.     ]\n",
      " [285.7143  286.2857  286.85715 287.42856 288.     ]\n",
      " [285.7143  286.2857  286.85715 287.42856 288.     ]]\n"
     ]
    }
   ],
   "source": [
    "print('Map x')\n",
    "print(map_x[500:505, 500:505])\n",
    "print('')\n",
    "print('Map y')\n",
    "print(map_x[500:505, 500:505])"
   ]
  },
  {
   "cell_type": "code",
   "execution_count": 5,
   "metadata": {},
   "outputs": [
    {
     "ename": "NameError",
     "evalue": "name 'x' is not defined",
     "output_type": "error",
     "traceback": [
      "\u001b[0;31m---------------------------------------------------------------------------\u001b[0m",
      "\u001b[0;31mNameError\u001b[0m                                 Traceback (most recent call last)",
      "\u001b[0;32m<ipython-input-5-38eb6612d19e>\u001b[0m in \u001b[0;36m<module>\u001b[0;34m\u001b[0m\n\u001b[0;32m----> 1\u001b[0;31m \u001b[0mdst\u001b[0m \u001b[0;34m=\u001b[0m \u001b[0mcv2\u001b[0m\u001b[0;34m.\u001b[0m\u001b[0mremap\u001b[0m\u001b[0;34m(\u001b[0m\u001b[0mimg\u001b[0m\u001b[0;34m,\u001b[0m \u001b[0mx\u001b[0m\u001b[0;34m,\u001b[0m \u001b[0my\u001b[0m\u001b[0;34m,\u001b[0m \u001b[0mcv2\u001b[0m\u001b[0;34m.\u001b[0m\u001b[0mINTER_LINEAR\u001b[0m\u001b[0;34m)\u001b[0m\u001b[0;34m\u001b[0m\u001b[0;34m\u001b[0m\u001b[0m\n\u001b[0m",
      "\u001b[0;31mNameError\u001b[0m: name 'x' is not defined"
     ]
    }
   ],
   "source": [
    "dst = cv2.remap(img, x, y, cv2.INTER_LINEAR)"
   ]
  },
  {
   "cell_type": "code",
   "execution_count": null,
   "metadata": {
    "scrolled": true
   },
   "outputs": [],
   "source": [
    "plt.subplot(121), plt.imshow(img)\n",
    "plt.subplot(122), plt.imshow(dst)"
   ]
  },
  {
   "cell_type": "markdown",
   "metadata": {},
   "source": [
    "Any affine transform can be written in form of matrix multiplication. Given the transform matrix, OpenCV offers a direct way to apply the transform."
   ]
  },
  {
   "cell_type": "code",
   "execution_count": null,
   "metadata": {},
   "outputs": [],
   "source": [
    "Z = np.array([[zoom, 0, 0], [0, zoom, 0]])\n",
    "out = cv2.warpAffine(img, Z, (cols, rows))\n",
    "\n",
    "plt.subplot(121), plt.imshow(img)\n",
    "plt.subplot(122), plt.imshow(out)"
   ]
  },
  {
   "cell_type": "code",
   "execution_count": null,
   "metadata": {
    "scrolled": false
   },
   "outputs": [],
   "source": [
    "out = cv2.warpAffine(img, Z, (int(zoom*cols), int(zoom*rows)))\n",
    "\n",
    "plt.subplot(121), plt.imshow(img)\n",
    "plt.subplot(122), plt.imshow(out)"
   ]
  },
  {
   "cell_type": "markdown",
   "metadata": {},
   "source": [
    "Image rotation is also an affine transform."
   ]
  },
  {
   "cell_type": "code",
   "execution_count": null,
   "metadata": {},
   "outputs": [],
   "source": [
    "theta = np.deg2rad(5)\n",
    "R = np.array([[np.cos(theta), -np.sin(theta), 0], [np.sin(theta), np.cos(theta), 0]])\n",
    "\n",
    "out = cv2.warpAffine(img, R, (cols, rows))\n",
    "\n",
    "plt.subplot(121), plt.imshow(img)\n",
    "plt.subplot(122), plt.imshow(out)"
   ]
  },
  {
   "cell_type": "markdown",
   "metadata": {},
   "source": [
    "To account for the rotation not being center, we can build the rotation matrix with a built-in OpenCV function."
   ]
  },
  {
   "cell_type": "code",
   "execution_count": null,
   "metadata": {},
   "outputs": [],
   "source": [
    "center = (cols//2, rows//2)\n",
    "rotate_matrix = cv2.getRotationMatrix2D(center=center, angle=45, scale=1)\n",
    "\n",
    "print(rotate_matrix, rows, cols, rows//2, cols//2)\n",
    "\n",
    "out = cv2.warpAffine(img, rotate_matrix, (cols, rows))\n",
    "\n",
    "plt.subplot(121), plt.imshow(img)\n",
    "plt.subplot(122), plt.imshow(out)"
   ]
  }
 ],
 "metadata": {
  "kernelspec": {
   "display_name": "cv",
   "language": "python",
   "name": "cv"
  },
  "language_info": {
   "codemirror_mode": {
    "name": "ipython",
    "version": 3
   },
   "file_extension": ".py",
   "mimetype": "text/x-python",
   "name": "python",
   "nbconvert_exporter": "python",
   "pygments_lexer": "ipython3",
   "version": "3.8.10"
  }
 },
 "nbformat": 4,
 "nbformat_minor": 4
}
