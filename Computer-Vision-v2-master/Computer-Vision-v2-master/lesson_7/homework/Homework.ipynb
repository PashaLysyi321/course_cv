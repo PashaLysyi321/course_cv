{
 "cells": [
  {
   "cell_type": "markdown",
   "metadata": {},
   "source": [
    "# HOMEWORK 7\n",
    "\n",
    "In this homework you are going to rectify a document image that suffers from severe distortion. You will be using the same image and the same detected corners from the previous lesson (lesson 6).\n",
    "\n",
    "Remember, OpenCV documentation is your friend ;-)\n",
    "\n",
    "At the end of this notebook, there are a couple of questions for you to answer."
   ]
  },
  {
   "cell_type": "code",
   "execution_count": null,
   "metadata": {},
   "outputs": [],
   "source": [
    "import cv2\n",
    "import math\n",
    "import numpy as np\n",
    "from matplotlib import pyplot as plt\n",
    "plt.rcParams['figure.figsize'] = [15, 10]"
   ]
  },
  {
   "cell_type": "markdown",
   "metadata": {},
   "source": [
    "Let's load the image we will be working on in this homework."
   ]
  },
  {
   "cell_type": "code",
   "execution_count": null,
   "metadata": {},
   "outputs": [],
   "source": [
    "img = cv2.imread('../../lesson_6/data/document.jpg')\n",
    "gray = cv2.cvtColor(img,cv2.COLOR_BGR2GRAY)\n",
    "gray = np.float32(gray)/255\n",
    "rows, cols = gray.shape\n",
    "\n",
    "# Let's plot the image\n",
    "plt.subplot(121), plt.imshow(img)\n",
    "plt.subplot(122), plt.imshow(gray, cmap='gray')"
   ]
  },
  {
   "cell_type": "markdown",
   "metadata": {},
   "source": [
    "In the previous homework you should have detected the four document corners and you will need to use them here. But don't worry if the previous homework did not work out for you, I am going to provide you with the corners coordinates here :-)"
   ]
  },
  {
   "cell_type": "code",
   "execution_count": null,
   "metadata": {},
   "outputs": [],
   "source": [
    "top_left = [76, 115]\n",
    "top_right = [219, 111]\n",
    "bottom_left = [43, 330]\n",
    "bottom_right = [256, 329]"
   ]
  },
  {
   "cell_type": "code",
   "execution_count": null,
   "metadata": {},
   "outputs": [],
   "source": [
    "# Let's plot the points\n",
    "out = np.copy(img)\n",
    "out = cv2.circle(out, tuple(top_left), 3, (255,0,0), -1)\n",
    "out = cv2.circle(out, tuple(top_right), 3, (255,0,0), -1)\n",
    "out = cv2.circle(out, tuple(bottom_left), 3, (255,0,0), -1)\n",
    "out = cv2.circle(out, tuple(bottom_right), 3, (255,0,0), -1)\n",
    "\n",
    "plt.subplot(121), plt.imshow(img)\n",
    "plt.subplot(122), plt.imshow(out)"
   ]
  },
  {
   "cell_type": "markdown",
   "metadata": {},
   "source": [
    "### Document Rectification\n",
    "\n",
    "Let's now try to rectify the document. The goal is to bring the four document corners to the image corners. For instance, we want the top-left document corner to become (0, 0), i.e., the top-left corner of the image itself. In that way, we will fill the complete image with document information and we will throw away parts of the images that correspond to background (which are of no use to us)."
   ]
  },
  {
   "cell_type": "code",
   "execution_count": null,
   "metadata": {},
   "outputs": [],
   "source": [
    "# Define the matrix of source points corresponding to the 4 document corners.\n",
    "# The matrix shall have shape (4, 2), i.e., 4 corners x 2 coordinates\n",
    "# Note: You will need to explicitly use float32 data type\n",
    "src = np.array(..., dtype=np.float32)\n",
    "\n",
    "# Define the matrix of target (destination) points corresponding to the 4 image corners.\n",
    "# The matrix shall have shape (4, 2), i.e., 4 corners x 2 coordinates\n",
    "# Note: You will need to explicitly use float32 data type\n",
    "# Note2: The order of points in src and dst must be the same\n",
    "dst ="
   ]
  },
  {
   "cell_type": "markdown",
   "metadata": {},
   "source": [
    "Let's first start with the affine transform for document rectification. The affine transform can be analytically calculated using 3 point pairs. Therefore, let's select the **first 3 points** and calculate the correspnding transfrom. We will then use the transform to rectify the document."
   ]
  },
  {
   "cell_type": "code",
   "execution_count": null,
   "metadata": {},
   "outputs": [],
   "source": [
    "# Compute the affine transform matrix (you'll have to use getAffineTransform function from OpenCV here)\n",
    "# Use the first 3 points from your src and dst matrix\n",
    "M =\n",
    "\n",
    "# Build the rectified image using the computed matrix (you'll have to use warpAffine function from OpenCV here)\n",
    "rectified =\n",
    "\n",
    "# Let's plot the results\n",
    "plt.subplot(121), plt.imshow(img)\n",
    "plt.subplot(122), plt.imshow(warped)"
   ]
  },
  {
   "cell_type": "markdown",
   "metadata": {},
   "source": [
    "Well, this is not bad by certainly not what we were aiming for. Let's try the **last 3** points instead."
   ]
  },
  {
   "cell_type": "code",
   "execution_count": null,
   "metadata": {},
   "outputs": [],
   "source": [
    "# Compute the affine transform matrix (use getAffineTransform)\n",
    "# Use the last 3 points from your src and dst matrix\n",
    "M =\n",
    "\n",
    "# Build the rectified image using the computed matrix (use warpAffine)\n",
    "rectified =\n",
    "\n",
    "# Let's plot the results\n",
    "plt.subplot(121), plt.imshow(img)\n",
    "plt.subplot(122), plt.imshow(rectified)"
   ]
  },
  {
   "cell_type": "markdown",
   "metadata": {},
   "source": [
    "The result looks different but not better. This approach doesn't seem to be helping then. Let's use **all 4 points** and let OpenCV **estimate** (remember that 4 points are too many for an analytical solution) the best fitting affine transform for us. It'll internally apply optimization approaches as well as RANSAC."
   ]
  },
  {
   "cell_type": "code",
   "execution_count": null,
   "metadata": {},
   "outputs": [],
   "source": [
    "# Estimate the optimal affine transform matrix (you'll have to use estimateAffine2D function from OpenCV here)\n",
    "# estimateAffine2D it returns the best fitting affine matrix as well as the vector of inliers (1 -> inlier,\n",
    "# 0 -> outlier).\n",
    "M, inliers =\n",
    "\n",
    "# Build the rectified image using the computed matrix (use warpAffine)\n",
    "rectified =\n",
    "\n",
    "# Let's plot the results\n",
    "plt.subplot(121), plt.imshow(img)\n",
    "plt.subplot(122), plt.imshow(warped)"
   ]
  },
  {
   "cell_type": "markdown",
   "metadata": {},
   "source": [
    "There is not much of an improvement either. Let's try homography instead of affine transform. Remember that for computing the homography analytically we need to use 4 pairs of points."
   ]
  },
  {
   "cell_type": "code",
   "execution_count": null,
   "metadata": {},
   "outputs": [],
   "source": [
    "# Compute the homography matrix (you'll have to use getPerspectiveTransform function from OpenCV here)\n",
    "M =\n",
    "\n",
    "# Build the rectified image using the computed matrix (you'll have to use warpPerspective function from OpenCV)\n",
    "rectified =\n",
    "\n",
    "# Let's plot the results\n",
    "plt.subplot(121), plt.imshow(img)\n",
    "plt.subplot(122), plt.imshow(rectified)"
   ]
  },
  {
   "cell_type": "markdown",
   "metadata": {},
   "source": [
    "### Questions\n",
    "* The affine transform does not seem to be working well in this case. Why?\n",
    "* What can you tell me about the values you have obtained for the inliers vector? What does it mean?\n",
    "* How does the result from homography look? Does it work well enough? \n",
    "\n",
    "Remember, I am **not** looking for a particular answer. I want to see how you think, so be creative ;-)"
   ]
  }
 ],
 "metadata": {
  "kernelspec": {
   "display_name": "cv",
   "language": "python",
   "name": "cv"
  },
  "language_info": {
   "codemirror_mode": {
    "name": "ipython",
    "version": 3
   },
   "file_extension": ".py",
   "mimetype": "text/x-python",
   "name": "python",
   "nbconvert_exporter": "python",
   "pygments_lexer": "ipython3",
   "version": "3.8.10"
  }
 },
 "nbformat": 4,
 "nbformat_minor": 4
}
