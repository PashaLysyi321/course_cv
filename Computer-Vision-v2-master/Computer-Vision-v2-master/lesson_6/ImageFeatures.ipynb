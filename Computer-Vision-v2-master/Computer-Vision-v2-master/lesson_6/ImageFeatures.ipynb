{
 "cells": [
  {
   "cell_type": "markdown",
   "metadata": {},
   "source": [
    "### Image Features\n",
    "Image features are visually distinct shapes that are of great interest for many computer vision tasks, e.g., detection, classification, tracking, etc."
   ]
  },
  {
   "cell_type": "code",
   "execution_count": null,
   "metadata": {},
   "outputs": [],
   "source": [
    "import cv2\n",
    "import math\n",
    "import numpy as np\n",
    "from matplotlib import pyplot as plt\n",
    "plt.rcParams['figure.figsize'] = [15, 10]"
   ]
  },
  {
   "cell_type": "code",
   "execution_count": null,
   "metadata": {},
   "outputs": [],
   "source": [
    "img = cv2.imread('data/checkerboard_clean.png')\n",
    "gray = cv2.cvtColor(img, cv2.COLOR_BGR2GRAY)\n",
    "plt.imshow(gray, cmap='gray')"
   ]
  },
  {
   "cell_type": "markdown",
   "metadata": {},
   "source": [
    "### Harris Corner Detector\n",
    "Harris corner detector evaluates each image pixel for the so called \"cornerness\", i.e., it measures how much the neighbourhood of each pixel changes in different directions. Pixels, whose neighborhood changes both vertically and horizontally are considered corners (or corner candidates)."
   ]
  },
  {
   "cell_type": "code",
   "execution_count": null,
   "metadata": {},
   "outputs": [],
   "source": [
    "src = gray.astype(np.float32)\n",
    "dst = cv2.cornerHarris(src, blockSize=2, ksize=11, k=0.04)\n",
    "plt.imshow(dst)"
   ]
  },
  {
   "cell_type": "markdown",
   "metadata": {},
   "source": [
    "Remember the cornerness equation: for edge pixel one of the eigenvalues (of the Harris matrix M) is very large and the other very small. This yields negative (with relatively large absolute value) cornerness index.\n",
    "\n",
    "Let's us now print the detected corners on the original image."
   ]
  },
  {
   "cell_type": "code",
   "execution_count": null,
   "metadata": {},
   "outputs": [],
   "source": [
    "rows, cols = dst.shape\n",
    "th = 0.9 * np.max(dst)\n",
    "result = np.copy(img)\n",
    "\n",
    "for r in range(rows):\n",
    "    for c in range(cols):\n",
    "        if dst[r, c] > th:\n",
    "            result = cv2.circle(result, (c,r), 5, (255,0,0), -1)\n",
    "            \n",
    "plt.imshow(result)"
   ]
  },
  {
   "cell_type": "code",
   "execution_count": null,
   "metadata": {
    "scrolled": true
   },
   "outputs": [],
   "source": [
    "img = cv2.imread('data/checkerboard.png')\n",
    "gray = cv2.cvtColor(img, cv2.COLOR_BGR2GRAY)\n",
    "\n",
    "src = gray.astype(np.float32)\n",
    "dst = cv2.cornerHarris(src, blockSize=2, ksize=3, k=0.04)\n",
    "plt.subplot(121), plt.imshow(img)\n",
    "plt.subplot(122), plt.imshow(dst)"
   ]
  },
  {
   "cell_type": "code",
   "execution_count": null,
   "metadata": {
    "scrolled": true
   },
   "outputs": [],
   "source": [
    "rows, cols = dst.shape\n",
    "th = 0.2 * np.max(dst)\n",
    "result = np.copy(img)\n",
    "\n",
    "for r in range(rows):\n",
    "    for c in range(cols):\n",
    "        if dst[r, c] > th:\n",
    "            result = cv2.circle(result, (c,r), 1, (255,0,0), -1)\n",
    "            \n",
    "plt.imshow(result)"
   ]
  },
  {
   "cell_type": "markdown",
   "metadata": {},
   "source": [
    "Let's try the corner detector on parking cameras."
   ]
  },
  {
   "cell_type": "code",
   "execution_count": null,
   "metadata": {},
   "outputs": [],
   "source": [
    "img = cv2.imread('data/parking.jpg')\n",
    "gray = cv2.cvtColor(img, cv2.COLOR_BGR2GRAY)\n",
    "\n",
    "src = gray.astype(np.float32)\n",
    "dst = cv2.cornerHarris(src, blockSize=2, ksize=3, k=0.04)\n",
    "plt.subplot(121), plt.imshow(img)\n",
    "plt.subplot(122), plt.imshow(dst)"
   ]
  },
  {
   "cell_type": "code",
   "execution_count": null,
   "metadata": {},
   "outputs": [],
   "source": [
    "rows, cols = dst.shape\n",
    "th = 0.2 * np.max(dst)   # Keep going down to 0.01 -> outliers\n",
    "result = np.copy(img)\n",
    "\n",
    "for r in range(rows):\n",
    "    for c in range(cols):\n",
    "        if dst[r, c] > th:\n",
    "            result = cv2.circle(result, (c,r), 3, (255,0,0), -1)\n",
    "            \n",
    "plt.imshow(result)"
   ]
  }
 ],
 "metadata": {
  "kernelspec": {
   "display_name": "cv",
   "language": "python",
   "name": "cv"
  },
  "language_info": {
   "codemirror_mode": {
    "name": "ipython",
    "version": 3
   },
   "file_extension": ".py",
   "mimetype": "text/x-python",
   "name": "python",
   "nbconvert_exporter": "python",
   "pygments_lexer": "ipython3",
   "version": "3.8.10"
  }
 },
 "nbformat": 4,
 "nbformat_minor": 4
}
