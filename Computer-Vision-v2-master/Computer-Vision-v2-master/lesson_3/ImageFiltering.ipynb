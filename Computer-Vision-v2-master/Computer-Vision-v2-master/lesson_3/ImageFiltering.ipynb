{
 "cells": [
  {
   "cell_type": "markdown",
   "metadata": {},
   "source": [
    "### Image Filtering\n",
    "Image filtering consists of **convolving** the image with a specified kernel."
   ]
  },
  {
   "cell_type": "code",
   "execution_count": null,
   "metadata": {},
   "outputs": [],
   "source": [
    "import cv2\n",
    "import numpy as np\n",
    "from matplotlib import pyplot as plt\n",
    "plt.rcParams['figure.figsize'] = [15, 10]"
   ]
  },
  {
   "cell_type": "code",
   "execution_count": null,
   "metadata": {},
   "outputs": [],
   "source": [
    "img = cv2.imread('data/kodim01.png')\n",
    "img = cv2.cvtColor(img, cv2.COLOR_BGR2RGB)\n",
    "plt.imshow(img)"
   ]
  },
  {
   "cell_type": "markdown",
   "metadata": {},
   "source": [
    "### Convolution\n",
    "Let us implement the convolution operation so we can filter the image with specified kernels."
   ]
  },
  {
   "cell_type": "code",
   "execution_count": null,
   "metadata": {},
   "outputs": [],
   "source": [
    "kernel = np.array([[1, 1, 1], [1, 1, 1], [1, 1, 1]])/9\n",
    "rows, cols, channels = img.shape\n",
    "out = np.zeros_like(img)\n",
    "\n",
    "# Sliding window applied to each colour channel\n",
    "for r in range(1, rows - 1):\n",
    "    for c in range(1, cols - 1):\n",
    "        for ch in range(0, channels):\n",
    "            block = img[r-1:r+2, c-1:c+2, ch]\n",
    "            out[r, c, ch] = np.sum(block * kernel)\n",
    "            \n",
    "plt.imshow(out)"
   ]
  },
  {
   "cell_type": "markdown",
   "metadata": {},
   "source": [
    "OpenCV already includes a large set of predefined filters. It also allows us to apply our own custom filters. Let's build a Gaussian kernel and apply it to the image."
   ]
  },
  {
   "cell_type": "code",
   "execution_count": null,
   "metadata": {},
   "outputs": [],
   "source": [
    "kernel = np.array([[0, -1, 0], [-1, 5, -1], [0, -1, 0]])\n",
    "out = cv2.filter2D(img, ddepth=-1, kernel=kernel, borderType=cv2.BORDER_REPLICATE)\n",
    "plt.imshow(out)\n",
    "print(kernel)"
   ]
  },
  {
   "cell_type": "code",
   "execution_count": null,
   "metadata": {},
   "outputs": [],
   "source": [
    "# Or even simpler for predefined filters\n",
    "out = cv2.GaussianBlur(img, ksize=(5,5), sigmaX=5)\n",
    "plt.imshow(out)"
   ]
  },
  {
   "cell_type": "code",
   "execution_count": null,
   "metadata": {},
   "outputs": [],
   "source": [
    "out = cv2.bilateralFilter(img, d=9, sigmaColor=75, sigmaSpace=75)\n",
    "plt.imshow(out)"
   ]
  },
  {
   "cell_type": "markdown",
   "metadata": {},
   "source": [
    "### Denoising\n",
    "Denoising is the operation of removing (reducing) noise from a signal."
   ]
  },
  {
   "cell_type": "code",
   "execution_count": null,
   "metadata": {},
   "outputs": [],
   "source": [
    "img = cv2.imread('data/kodim07.png')\n",
    "img = cv2.cvtColor(img, cv2.COLOR_BGR2RGB)\n",
    "\n",
    "noisy = img/255 + 0.1*np.random.randn(*img.shape)\n",
    "noisy[noisy < 0] = 0\n",
    "noisy[noisy > 1] = 1\n",
    "noisy = (255*noisy).astype(np.uint8)\n",
    "\n",
    "plt.subplot(121), plt.imshow(img), plt.title('Original')\n",
    "plt.subplot(122), plt.imshow(noisy), plt.title('Noisy')"
   ]
  },
  {
   "cell_type": "code",
   "execution_count": null,
   "metadata": {
    "scrolled": true
   },
   "outputs": [],
   "source": [
    "# Apply Gaussian low-pass filter to reduce noise\n",
    "out = cv2.GaussianBlur(noisy, ksize=(5,5), sigmaX=5)\n",
    "plt.subplot(121), plt.imshow(noisy)\n",
    "plt.subplot(122), plt.imshow(out)"
   ]
  },
  {
   "cell_type": "code",
   "execution_count": null,
   "metadata": {},
   "outputs": [],
   "source": [
    "plt.subplot(121), plt.imshow(noisy[0:300, 0:300, :])\n",
    "plt.subplot(122), plt.imshow(out[0:300, 0:300, :])"
   ]
  },
  {
   "cell_type": "code",
   "execution_count": null,
   "metadata": {},
   "outputs": [],
   "source": [
    "# Compare with bilateral filter\n",
    "bilat = cv2.bilateralFilter(noisy, d=9, sigmaColor=75, sigmaSpace=75)\n",
    "plt.subplot(121), plt.imshow(out[200:600, 300:600, :])\n",
    "plt.subplot(122), plt.imshow(bilat[200:600, 300:600, :])"
   ]
  },
  {
   "cell_type": "markdown",
   "metadata": {},
   "source": [
    "### Salt & Pepper Noise\n",
    "Impulsive noise that saturates pixel values to white or black."
   ]
  },
  {
   "cell_type": "code",
   "execution_count": null,
   "metadata": {},
   "outputs": [],
   "source": [
    "noisy = np.zeros_like(img)\n",
    "rows, cols, _ = img.shape\n",
    "\n",
    "probability = 0.1\n",
    "for r in range(rows):\n",
    "    for c in range(cols):\n",
    "        if np.random.rand() < probability:\n",
    "            # 50% chance of getting salt or pepper\n",
    "            if np.random.rand() < 0.5:\n",
    "                noisy[r, c, :] = 255\n",
    "            else:\n",
    "                noisy[r, c, :] = 0\n",
    "        else:\n",
    "            noisy[r, c, :] = img[r, c, :]\n",
    "            \n",
    "plt.imshow(noisy)"
   ]
  },
  {
   "cell_type": "markdown",
   "metadata": {},
   "source": [
    "Let's apply Gaussian filtering to reduce the noise."
   ]
  },
  {
   "cell_type": "code",
   "execution_count": null,
   "metadata": {},
   "outputs": [],
   "source": [
    "out = cv2.GaussianBlur(noisy, ksize=(5,5), sigmaX=5)\n",
    "plt.subplot(121), plt.imshow(noisy)\n",
    "plt.subplot(122), plt.imshow(out)"
   ]
  },
  {
   "cell_type": "code",
   "execution_count": null,
   "metadata": {
    "scrolled": true
   },
   "outputs": [],
   "source": [
    "plt.subplot(121), plt.imshow(noisy[200:600, 300:600, :])\n",
    "plt.subplot(122), plt.imshow(out[200:600, 300:600, :])"
   ]
  },
  {
   "cell_type": "markdown",
   "metadata": {},
   "source": [
    "Gaussian filters do not handle well impulsive noises. We can try **median** filters instead."
   ]
  },
  {
   "cell_type": "code",
   "execution_count": null,
   "metadata": {},
   "outputs": [],
   "source": [
    "median = cv2.medianBlur(noisy, ksize=5)\n",
    "plt.subplot(121), plt.imshow(noisy[200:600, 300:600, :])\n",
    "plt.subplot(122), plt.imshow(median[200:600, 300:600, :])"
   ]
  }
 ],
 "metadata": {
  "kernelspec": {
   "display_name": "cv",
   "language": "python",
   "name": "cv"
  },
  "language_info": {
   "codemirror_mode": {
    "name": "ipython",
    "version": 3
   },
   "file_extension": ".py",
   "mimetype": "text/x-python",
   "name": "python",
   "nbconvert_exporter": "python",
   "pygments_lexer": "ipython3",
   "version": "3.8.10"
  }
 },
 "nbformat": 4,
 "nbformat_minor": 4
}
