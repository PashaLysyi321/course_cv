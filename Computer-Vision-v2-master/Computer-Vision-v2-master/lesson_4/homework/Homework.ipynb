{
 "cells": [
  {
   "cell_type": "markdown",
   "metadata": {},
   "source": [
    "# HOMEWORK 4\n",
    "\n",
    "For this homework you are going to implement a lane line detector. Lane line detection is crucial for ADAS (Advanced Driver Assistance Systems) systems and, in particular, for LKA (Lane Keep Assist). You will use a picture from a front facing camera (mounted on the car) and will implement the following steps:\n",
    "* Convert image to gray scale\n",
    "* Compute edge map\n",
    "* Apply Hough transform to obtain line parametrizations"
   ]
  },
  {
   "cell_type": "code",
   "execution_count": null,
   "metadata": {
    "scrolled": false
   },
   "outputs": [],
   "source": [
    "import cv2\n",
    "import math\n",
    "import numpy as np\n",
    "from matplotlib import pyplot as plt\n",
    "plt.rcParams['figure.figsize'] = [15, 10]"
   ]
  },
  {
   "cell_type": "markdown",
   "metadata": {},
   "source": [
    "Let's load and show the camera frame."
   ]
  },
  {
   "cell_type": "code",
   "execution_count": null,
   "metadata": {},
   "outputs": [],
   "source": [
    "img = cv2.imread('../data/dashcam.jpg')\n",
    "img = cv2.cvtColor(img, cv2.COLOR_BGR2RGB)\n",
    "plt.imshow(img)"
   ]
  },
  {
   "cell_type": "code",
   "execution_count": null,
   "metadata": {
    "scrolled": true
   },
   "outputs": [],
   "source": [
    "# Convert image to gray scale\n",
    "gray = "
   ]
  },
  {
   "cell_type": "code",
   "execution_count": null,
   "metadata": {},
   "outputs": [],
   "source": [
    "# Obtain edge map\n",
    "# Hint: you can use Canny edge detector with th_low = 100, th_high = 150\n",
    "edges = "
   ]
  },
  {
   "cell_type": "code",
   "execution_count": null,
   "metadata": {},
   "outputs": [],
   "source": [
    "# Let's plot the images\n",
    "plt.subplot(121), plt.imshow(img), plt.title('Original')\n",
    "plt.subplot(122), plt.imshow(edges, cmap='gray'), plt.title('Edge map')"
   ]
  },
  {
   "cell_type": "code",
   "execution_count": null,
   "metadata": {
    "scrolled": false
   },
   "outputs": [],
   "source": [
    "# Apply Hough transform to parametrize the lines\n",
    "# Hint 1: Offset resolution of 5 pixels and slope resolution of 5 degrees work well in this case\n",
    "# Hint 2: A suitable value for the accumulator threshold is 90\n",
    "lines = \n",
    "# Let's get rid of the unnecessary dimension\n",
    "lines = lines[:, 0, :]"
   ]
  },
  {
   "cell_type": "code",
   "execution_count": null,
   "metadata": {},
   "outputs": [],
   "source": [
    "# Plot the resulting Hough lines\n",
    "result = np.copy(img)\n",
    "        \n",
    "for line in lines:\n",
    "    rho = \n",
    "    theta = \n",
    "    \n",
    "    a = math.cos(theta)\n",
    "    b = math.sin(theta)\n",
    "    \n",
    "    x0 = a * rho\n",
    "    y0 = b * rho\n",
    "    \n",
    "    pt1 = (int(x0 + 1000*(-b)), int(y0 + 1000*(a)))\n",
    "    pt2 = (int(x0 - 1000*(-b)), int(y0 - 1000*(a)))\n",
    "    \n",
    "    cv2.line(result, pt1, pt2, 255, 1, cv2.LINE_AA)\n",
    "\n",
    "plt.subplot(121), plt.imshow(edges, cmap='gray'), plt.title('Edge map')\n",
    "plt.subplot(122), plt.imshow(result, cmap='gray'), plt.title('Hough lines')"
   ]
  },
  {
   "cell_type": "markdown",
   "metadata": {},
   "source": [
    "The edge map looks good but the Hough lines are too noisy. Let's clean the Hough lines first by removing all lines that we know cannot represent a lane line. In other words, all lines that are approximately horizontal shall be removed. Remember that horizontal lines correspond to theta = 90 degrees."
   ]
  },
  {
   "cell_type": "code",
   "execution_count": null,
   "metadata": {},
   "outputs": [],
   "source": [
    "# Filter out all lines that are approximately horizontal (+/- 15 degrees). \n",
    "filtered_lines = []\n",
    "for line in lines:\n",
    "    # Extract theta for current line (remember Hough works with radians)\n",
    "    theta = \n",
    "    # Keep line if theta is not horizontal\n",
    "    if ...\n",
    "        filtered_lines.append(line)"
   ]
  },
  {
   "cell_type": "code",
   "execution_count": null,
   "metadata": {},
   "outputs": [],
   "source": [
    "# Let's plot the resulting filtered lines\n",
    "result = np.copy(img)\n",
    " \n",
    "for line in filtered_lines:\n",
    "    rho = \n",
    "    theta = \n",
    "    ...\n",
    "\n",
    "plt.subplot(121), plt.imshow(edges, cmap='gray'), plt.title('Edge map')\n",
    "plt.subplot(122), plt.imshow(result, cmap='gray'), plt.title('Hough lines')"
   ]
  },
  {
   "cell_type": "markdown",
   "metadata": {},
   "source": [
    "The result is now much better, but still we see some very similar lines. How can we get rid of them?\n",
    "* Let's apply k-means clustering. It will find the clusters of the 3 lines and use the averages."
   ]
  },
  {
   "cell_type": "code",
   "execution_count": null,
   "metadata": {
    "scrolled": true
   },
   "outputs": [],
   "source": [
    "# We will apply k-means clustering to refine the detected lines.\n",
    "# Don't worry, we will learn about the clustering later in the course :-)\n",
    "from sklearn.cluster import KMeans\n",
    "kmeans = KMeans(n_clusters=3).fit(filtered_lines)\n",
    "kmeans.cluster_centers_"
   ]
  },
  {
   "cell_type": "code",
   "execution_count": null,
   "metadata": {
    "scrolled": true
   },
   "outputs": [],
   "source": [
    "# Again, let's plot the resulting filtered lines\n",
    "result = np.copy(img)\n",
    "    \n",
    "for line in kmeans.cluster_centers_:\n",
    "    rho = \n",
    "    theta = \n",
    "    ...\n",
    "\n",
    "plt.subplot(121), plt.imshow(edges, cmap='gray'), plt.title('Edge map')\n",
    "plt.subplot(122), plt.imshow(result, cmap='gray'), plt.title('Hough lines')"
   ]
  },
  {
   "cell_type": "markdown",
   "metadata": {},
   "source": [
    "### Questions\n",
    "* Do you see anything strange in the final result?\n",
    "* Do you think the Hough transform resolution is important for obtaining a good result? Why?\n",
    "* Do you think the Hough transform accumulator threshold is important for obtaining a good result? Why?"
   ]
  }
 ],
 "metadata": {
  "kernelspec": {
   "display_name": "cv",
   "language": "python",
   "name": "cv"
  },
  "language_info": {
   "codemirror_mode": {
    "name": "ipython",
    "version": 3
   },
   "file_extension": ".py",
   "mimetype": "text/x-python",
   "name": "python",
   "nbconvert_exporter": "python",
   "pygments_lexer": "ipython3",
   "version": "3.8.10"
  }
 },
 "nbformat": 4,
 "nbformat_minor": 4
}
