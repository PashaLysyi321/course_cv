{
 "cells": [
  {
   "cell_type": "markdown",
   "metadata": {},
   "source": [
    "### Edge Detetcion\n",
    "\n",
    "Edges indicat eobject outlines and play an important role in visual **perception**. Edge are based on local gradients of luminance and therefore have\n",
    "* magnitude\n",
    "* orientation"
   ]
  },
  {
   "cell_type": "code",
   "execution_count": null,
   "metadata": {},
   "outputs": [],
   "source": [
    "import cv2\n",
    "import numpy as np\n",
    "from matplotlib import pyplot as plt\n",
    "plt.rcParams['figure.figsize'] = [15, 10]"
   ]
  },
  {
   "cell_type": "code",
   "execution_count": null,
   "metadata": {},
   "outputs": [],
   "source": [
    "img = cv2.imread('data/autobahn.jpg')\n",
    "img = cv2.cvtColor(img, cv2.COLOR_BGR2RGB)\n",
    "plt.imshow(img)"
   ]
  },
  {
   "cell_type": "code",
   "execution_count": null,
   "metadata": {
    "scrolled": true
   },
   "outputs": [],
   "source": [
    "# Set up kernels\n",
    "kernel_hor = np.array([[1, -1]])\n",
    "kernel_ver = np.array([[1], [-1]])\n",
    "\n",
    "# Prepare gray scale image\n",
    "gray = cv2.cvtColor(img, cv2.COLOR_RGB2GRAY)\n",
    "gray = gray/255\n",
    "\n",
    "# Convolve discrete gradient kernels with the luminance channel\n",
    "grad_hor = cv2.filter2D(gray, ddepth=-1, kernel=kernel_hor)\n",
    "grad_ver = cv2.filter2D(gray, ddepth=-1, kernel=kernel_ver)\n",
    "\n",
    "plt.subplot(121), plt.imshow(grad_hor, cmap='gray'), plt.title('Horizontal gradient')\n",
    "plt.subplot(122), plt.imshow(grad_ver, cmap='gray'), plt.title('Vertical gradient')"
   ]
  },
  {
   "cell_type": "markdown",
   "metadata": {},
   "source": [
    "The problem with simple discrete gradients is that they are very sensitive to noise."
   ]
  },
  {
   "cell_type": "code",
   "execution_count": null,
   "metadata": {
    "scrolled": true
   },
   "outputs": [],
   "source": [
    "plt.subplot(121), plt.imshow(grad_hor[400:, 200:300], cmap='gray'), plt.title('Horizontal gradient')\n",
    "plt.subplot(122), plt.imshow(grad_ver[400:, 200:300], cmap='gray'), plt.title('Vertical gradient')"
   ]
  },
  {
   "cell_type": "markdown",
   "metadata": {},
   "source": [
    "### Averaging Filters\n",
    "Gradient filters can be convolved with averaging filters to get a less noisy gradient map."
   ]
  },
  {
   "cell_type": "code",
   "execution_count": null,
   "metadata": {},
   "outputs": [],
   "source": [
    "# Set up gradient kernels\n",
    "Gh = np.array([[1, -1]])\n",
    "Gv = np.array([[1], [-1]])\n",
    "\n",
    "# Set up averaging kernels\n",
    "Ah = 0.5 * np.array([[1, 1]])\n",
    "Av = 0.5 * np.array([[1], [1]])\n",
    "\n",
    "# Build separable averaging gradient kernels\n",
    "from scipy.signal import convolve2d\n",
    "Hh = convolve2d(Gh, Av)\n",
    "Hv = convolve2d(Gv, Ah)\n",
    "\n",
    "print('Horizontal filter \\n', Hh)\n",
    "print(' ')\n",
    "print('Vertical filter \\n', Hv)"
   ]
  },
  {
   "cell_type": "code",
   "execution_count": null,
   "metadata": {
    "scrolled": true
   },
   "outputs": [],
   "source": [
    "grad_avg_hor = cv2.filter2D(gray, ddepth=-1, kernel=Hh)\n",
    "grad_avg_ver = cv2.filter2D(gray, ddepth=-1, kernel=Hv)\n",
    "\n",
    "plt.subplot(121), plt.imshow(grad_avg_hor, cmap='gray'), plt.title('Horizontal gradient')\n",
    "plt.subplot(122), plt.imshow(grad_avg_ver, cmap='gray'), plt.title('Vertical gradient')"
   ]
  },
  {
   "cell_type": "code",
   "execution_count": null,
   "metadata": {
    "scrolled": true
   },
   "outputs": [],
   "source": [
    "block_hor = grad_hor[400:, 200:300]\n",
    "block_avg_hor = grad_avg_hor[400:, 200:300]\n",
    "\n",
    "vmin = max(np.min(block_hor), np.min(block_avg_hor))\n",
    "vmax = min(np.max(block_hor), np.max(block_avg_hor))\n",
    "\n",
    "plt.subplot(121), plt.imshow(block_hor, cmap='gray', vmin=vmin, vmax=vmax), plt.title('Gv')\n",
    "plt.subplot(122), plt.imshow(block_avg_hor, cmap='gray', vmin=vmin, vmax=vmax), plt.title('Hv')\n",
    "\n",
    "print(np.min(block_hor), np.max(block_hor))\n",
    "print(np.min(block_avg_hor), np.max(block_avg_hor))"
   ]
  },
  {
   "cell_type": "code",
   "execution_count": null,
   "metadata": {
    "scrolled": true
   },
   "outputs": [],
   "source": [
    "block_ver = grad_ver[400:, 200:300]\n",
    "block_avg_ver = grad_avg_ver[400:, 200:300]\n",
    "\n",
    "vmin = max(np.min(block_ver), np.min(block_avg_ver))\n",
    "vmax = min(np.max(block_ver), np.max(block_avg_ver))\n",
    "\n",
    "plt.subplot(121), plt.imshow(block_ver, cmap='gray', vmin=vmin, vmax=vmax), plt.title('Gv')\n",
    "plt.subplot(122), plt.imshow(block_avg_ver, cmap='gray', vmin=vmin, vmax=vmax), plt.title('Hv')\n",
    "\n",
    "print(np.min(block_ver), np.max(block_ver))\n",
    "print(np.min(block_avg_ver), np.max(block_avg_ver))"
   ]
  },
  {
   "cell_type": "markdown",
   "metadata": {},
   "source": [
    "### Sobel Edge Detector\n",
    "Sober edge detector is a symmetric rgadient filter with weighted averaging. It is one of the most popular and effective gradient filters."
   ]
  },
  {
   "cell_type": "code",
   "execution_count": null,
   "metadata": {
    "scrolled": true
   },
   "outputs": [],
   "source": [
    "grad_x = cv2.Sobel(gray, ddepth=-1, dx=1, dy=0)\n",
    "grad_y = cv2.Sobel(gray, ddepth=-1, dx=0, dy=1)\n",
    "\n",
    "# Compute magnitude\n",
    "sobel = np.sqrt(grad_x**2 + grad_y**2)\n",
    "sobel = grad/np.max(grad)\n",
    "\n",
    "plt.imshow(sobel)"
   ]
  },
  {
   "cell_type": "markdown",
   "metadata": {},
   "source": [
    "### Canny Edge Detector\n",
    "Produces smooth edges by applying Gaussian prefiltering. It also applies double thresholding via hystheresis. The edges are thinned using non-maximum-suppresion."
   ]
  },
  {
   "cell_type": "code",
   "execution_count": null,
   "metadata": {
    "scrolled": false
   },
   "outputs": [],
   "source": [
    "# OpenCV implementation of Canny only accepts uint8 images\n",
    "gray = cv2.cvtColor(img, cv2.COLOR_RGB2GRAY)\n",
    "\n",
    "edges = cv2.Canny(gray, threshold1=100, threshold2=550)\n",
    "plt.imshow(edges, cmap='gray')"
   ]
  },
  {
   "cell_type": "markdown",
   "metadata": {},
   "source": [
    "You can see the NMS edge thinning workig in the following comparison."
   ]
  },
  {
   "cell_type": "code",
   "execution_count": null,
   "metadata": {},
   "outputs": [],
   "source": [
    "plt.subplot(121), plt.imshow(edges[300:, 400:600], cmap='gray'), plt.title('Canny')\n",
    "plt.subplot(122), plt.imshow(sobel[300:, 400:600] > 0.3, cmap='gray'), plt.title('Sobel')"
   ]
  }
 ],
 "metadata": {
  "kernelspec": {
   "display_name": "cv",
   "language": "python",
   "name": "cv"
  },
  "language_info": {
   "codemirror_mode": {
    "name": "ipython",
    "version": 3
   },
   "file_extension": ".py",
   "mimetype": "text/x-python",
   "name": "python",
   "nbconvert_exporter": "python",
   "pygments_lexer": "ipython3",
   "version": "3.8.10"
  }
 },
 "nbformat": 4,
 "nbformat_minor": 4
}
