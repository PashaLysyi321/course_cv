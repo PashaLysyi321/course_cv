{
 "cells": [
  {
   "cell_type": "markdown",
   "metadata": {},
   "source": [
    "### Hough Transform"
   ]
  },
  {
   "cell_type": "code",
   "execution_count": null,
   "metadata": {},
   "outputs": [],
   "source": [
    "import cv2\n",
    "import math\n",
    "import numpy as np\n",
    "from matplotlib import pyplot as plt\n",
    "plt.rcParams['figure.figsize'] = [15, 10]"
   ]
  },
  {
   "cell_type": "code",
   "execution_count": null,
   "metadata": {},
   "outputs": [],
   "source": [
    "img = cv2.imread('data/yield.png')\n",
    "img = cv2.cvtColor(img, cv2.COLOR_BGR2RGB)\n",
    "gray = cv2.cvtColor(img, cv2.COLOR_RGB2GRAY)\n",
    "edges = cv2.Canny(gray, threshold1=100, threshold2=550)\n",
    "\n",
    "plt.subplot(121), plt.imshow(img)\n",
    "plt.subplot(122), plt.imshow(edges, cmap='gray')"
   ]
  },
  {
   "cell_type": "code",
   "execution_count": null,
   "metadata": {},
   "outputs": [],
   "source": [
    "lines = cv2.HoughLines(edges, rho=1, theta=2*np.pi/180, threshold=50)\n",
    "hough = np.zeros_like(edges)\n",
    "    \n",
    "for i in range(0, len(lines[0:3])):\n",
    "    rho = lines[i][0][0]\n",
    "    theta = lines[i][0][1]\n",
    "    a = math.cos(theta)\n",
    "    b = math.sin(theta)\n",
    "    x0 = a * rho\n",
    "    y0 = b * rho\n",
    "    pt1 = (int(x0 + 1000*(-b)), int(y0 + 1000*(a)))\n",
    "    pt2 = (int(x0 - 1000*(-b)), int(y0 - 1000*(a)))\n",
    "    cv2.line(out, pt1, pt2, 255, 1, cv2.LINE_AA)\n",
    "\n",
    "plt.subplot(121), plt.imshow(edges. cmap='gray')\n",
    "plt.subplot(122), plt.imshow(hough, cmap='gray')"
   ]
  }
 ],
 "metadata": {
  "kernelspec": {
   "display_name": "cv",
   "language": "python",
   "name": "cv"
  },
  "language_info": {
   "codemirror_mode": {
    "name": "ipython",
    "version": 3
   },
   "file_extension": ".py",
   "mimetype": "text/x-python",
   "name": "python",
   "nbconvert_exporter": "python",
   "pygments_lexer": "ipython3",
   "version": "3.8.10"
  }
 },
 "nbformat": 4,
 "nbformat_minor": 4
}
