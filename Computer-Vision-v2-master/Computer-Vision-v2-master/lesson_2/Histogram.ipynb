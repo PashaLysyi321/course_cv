{
 "cells": [
  {
   "cell_type": "markdown",
   "metadata": {},
   "source": [
    "### Histogram\n",
    "Image histogram counts the number of pixels with a specific colour."
   ]
  },
  {
   "cell_type": "code",
   "execution_count": null,
   "metadata": {},
   "outputs": [],
   "source": [
    "import cv2\n",
    "import numpy as np\n",
    "from matplotlib import pyplot as plt\n",
    "plt.rcParams['figure.figsize'] = [15, 5]\n",
    "from time import time"
   ]
  },
  {
   "cell_type": "markdown",
   "metadata": {},
   "source": [
    "Let's load an example image."
   ]
  },
  {
   "cell_type": "code",
   "execution_count": null,
   "metadata": {
    "scrolled": true
   },
   "outputs": [],
   "source": [
    "img = cv2.imread('data/kodim05.jpg')\n",
    "img = cv2.cvtColor(img, cv2.COLOR_BGR2GRAY)\n",
    "\n",
    "plt.imshow(img, cmap='gray', vmin=0, vmax=255)"
   ]
  },
  {
   "cell_type": "markdown",
   "metadata": {},
   "source": [
    "Let's now compute the histogram by counting the number of pixels for each colour."
   ]
  },
  {
   "cell_type": "code",
   "execution_count": null,
   "metadata": {},
   "outputs": [],
   "source": [
    "start = time()\n",
    "rows, cols = img.shape\n",
    "hist = np.zeros(256)\n",
    "for r in range(rows):\n",
    "    for c in range(cols):\n",
    "        hist[img[r,c]] = hist[img[r,c]] + 1\n",
    "print('Elapsed time:', time() - start)\n",
    "plt.plot(np.arange(0, 256), hist)\n",
    "plt.grid(True)\n",
    "plt.xlabel('Pixel color'), plt.ylabel('Number of pixels')"
   ]
  },
  {
   "cell_type": "markdown",
   "metadata": {},
   "source": [
    "### Histogram Equalization\n",
    "The transformation function for histogram equalization is the cumulative distribution function (CDF). CDF is computed from image histogram."
   ]
  },
  {
   "cell_type": "code",
   "execution_count": null,
   "metadata": {},
   "outputs": [],
   "source": [
    "cdf = np.zeros(256)\n",
    "for idx, h in enumerate(hist):\n",
    "    cdf[idx] = np.sum(hist[0:idx+1])\n",
    "cdf = cdf/np.sum(hist)\n",
    "plt.plot(cdf), plt.grid(True)\n",
    "plt.xlabel('Pixel color'), plt.ylabel('CDF')"
   ]
  },
  {
   "cell_type": "code",
   "execution_count": null,
   "metadata": {},
   "outputs": [],
   "source": [
    "equalized = np.zeros((rows, cols), dtype=np.uint8)\n",
    "for r in range(rows):\n",
    "    for c in range(cols):\n",
    "        equalized[r,c] = 255*cdf[img[r,c]]\n",
    "\n",
    "plt.subplot(121), plt.imshow(img, cmap='gray', vmin=0, vmax=255)\n",
    "plt.subplot(122), plt.imshow(equalized, cmap='gray', vmin=0, vmax=255)"
   ]
  },
  {
   "cell_type": "markdown",
   "metadata": {},
   "source": [
    "### Useful Functions\n",
    "Histogram calculation as well as histogram equalization are available in numpy and/or OpenCV. Let's first start with histogram calculation using numpy."
   ]
  },
  {
   "cell_type": "code",
   "execution_count": null,
   "metadata": {
    "scrolled": true
   },
   "outputs": [],
   "source": [
    "start = time()\n",
    "hist, bins = np.histogram(img.ravel(), bins=256, range=(0,255))\n",
    "print('Elapsed time:', time() - start)\n",
    "plt.plot(bins[0:-1]+0.5, hist), plt.grid(True)"
   ]
  },
  {
   "cell_type": "markdown",
   "metadata": {},
   "source": [
    "OpenCV includes a function for histogram equalization."
   ]
  },
  {
   "cell_type": "code",
   "execution_count": null,
   "metadata": {
    "scrolled": true
   },
   "outputs": [],
   "source": [
    "dst = cv2.equalizeHist(img)\n",
    "plt.subplot(121), plt.imshow(img, cmap='gray', vmin=0, vmax=255)\n",
    "plt.subplot(122), plt.imshow(dst, cmap='gray', vmin=0, vmax=255)"
   ]
  },
  {
   "cell_type": "markdown",
   "metadata": {},
   "source": [
    "### Contrast Limited Adaptive Histogram Equalization (CLAHE)\n",
    "Histogram equalization assumes that an image with good contrast shall have \"flat\" pdf. However, this is not always true. The image below shows a dark tire and histogram equalization is too agressive."
   ]
  },
  {
   "cell_type": "code",
   "execution_count": null,
   "metadata": {
    "scrolled": true
   },
   "outputs": [],
   "source": [
    "img = cv2.imread('data/tire.png')\n",
    "img = cv2.cvtColor(img, cv2.COLOR_BGR2GRAY)\n",
    "\n",
    "plt.subplot(121), plt.imshow(img, cmap='gray', vmin=0, vmax=255)\n",
    "plt.subplot(122), plt.imshow(cv2.equalizeHist(img), cmap='gray', vmin=0, vmax=255)"
   ]
  },
  {
   "cell_type": "markdown",
   "metadata": {},
   "source": [
    "This happens because the CDF transforms even very dark tones to quite bright levels."
   ]
  },
  {
   "cell_type": "code",
   "execution_count": null,
   "metadata": {},
   "outputs": [],
   "source": [
    "hist, bins = np.histogram(img.ravel(), bins=256, range=(0,255))\n",
    "cdf = np.cumsum(hist/np.sum(hist))\n",
    "plt.plot(255*cdf), plt.axis('square'), plt.grid(True)\n",
    "plt.xlabel('Input'), plt.ylabel('Output')"
   ]
  },
  {
   "cell_type": "markdown",
   "metadata": {},
   "source": [
    "Contrast limited adaptive histogram equalization clips the transformation \"agressivness\"."
   ]
  },
  {
   "cell_type": "code",
   "execution_count": null,
   "metadata": {},
   "outputs": [],
   "source": [
    "clahe = cv2.createCLAHE(clipLimit=2.0, tileGridSize=(8,8))\n",
    "\n",
    "plt.subplot(131), plt.imshow(img, cmap='gray', vmin=0, vmax=255)\n",
    "plt.subplot(132), plt.imshow(cv2.equalizeHist(img), cmap='gray', vmin=0, vmax=255)\n",
    "plt.subplot(133), plt.imshow(clahe.apply(img), cmap='gray', vmin=0, vmax=255)"
   ]
  }
 ],
 "metadata": {
  "kernelspec": {
   "display_name": "cv",
   "language": "python",
   "name": "cv"
  },
  "language_info": {
   "codemirror_mode": {
    "name": "ipython",
    "version": 3
   },
   "file_extension": ".py",
   "mimetype": "text/x-python",
   "name": "python",
   "nbconvert_exporter": "python",
   "pygments_lexer": "ipython3",
   "version": "3.8.10"
  }
 },
 "nbformat": 4,
 "nbformat_minor": 4
}
