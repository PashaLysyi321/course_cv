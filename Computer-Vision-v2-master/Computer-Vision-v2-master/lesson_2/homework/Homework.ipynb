{
 "cells": [
  {
   "cell_type": "markdown",
   "metadata": {},
   "source": [
    "# HOMEWORK 2\n",
    "For this homework you will have to complete and implement the colour balancing for:\n",
    "* Gray world algorithm\n",
    "* Scale-by-max algorithm\n",
    "\n",
    "You are free to use your own images. Experiment with more images and think about the effect each of the algorithms has on the resulting (balanced) image.\n",
    "\n",
    "### Colour Balancing\n",
    "In this notebook we will show different type of colour balancing making use of von Kries' hypothesis."
   ]
  },
  {
   "cell_type": "code",
   "execution_count": null,
   "metadata": {},
   "outputs": [],
   "source": [
    "import cv2\n",
    "import numpy as np\n",
    "from matplotlib import pyplot as plt\n",
    "plt.rcParams['figure.figsize'] = [15, 5]"
   ]
  },
  {
   "cell_type": "code",
   "execution_count": null,
   "metadata": {},
   "outputs": [],
   "source": [
    "img = cv2.imread('../data/sea.jpg')\n",
    "img = cv2.cvtColor(img, cv2.COLOR_BGR2RGB)\n",
    "plt.imshow(img)"
   ]
  },
  {
   "cell_type": "markdown",
   "metadata": {},
   "source": [
    "### White patch\n",
    "In white patch algorithm we choose a group of pixels we know they should be white. We then scale the resulting image colour channels by this white patch."
   ]
  },
  {
   "cell_type": "code",
   "execution_count": null,
   "metadata": {},
   "outputs": [],
   "source": [
    "# Define white patch and the coefficients\n",
    "row, col = 485, 864 \n",
    "white = img[row, col, :]\n",
    "coeffs = 255.0/white\n",
    "\n",
    "# Apply white balancing and generate balanced image\n",
    "balanced = np.zeros_like(img, dtype=np.float32)\n",
    "for channel in range(3):\n",
    "    balanced[..., channel] = img[..., channel] * coeffs[channel]\n",
    "\n",
    "# White patching does not guarantee that the dynamic range is preserved, images must be clipped.\n",
    "balanced = balanced/255\n",
    "balanced[balanced > 1] = 1\n",
    "\n",
    "plt.subplot(121), plt.imshow(img)\n",
    "plt.subplot(122), plt.imshow(balanced)"
   ]
  },
  {
   "cell_type": "markdown",
   "metadata": {},
   "source": [
    "### Gray world\n",
    "This algorithm assumes that a scene, on average, is gray."
   ]
  },
  {
   "cell_type": "code",
   "execution_count": null,
   "metadata": {},
   "outputs": [],
   "source": [
    "# Load your image\n",
    "img = cv2.imread('...')\n",
    "img = cv2.cvtColor(img, cv2.COLOR_BGR2RGB)\n",
    "\n",
    "# Compute the mean values for all three colour channels (red, green, blue)\n",
    "mean_r = \n",
    "mean_g = \n",
    "mean_b = \n",
    "\n",
    "# Compute the coefficients kr, kg, kb\n",
    "# Note: there are 3 coefficients to compute but we only have 2 equations.\n",
    "# Therefore, you have to make an assumption, fix the value of one of the\n",
    "# coefficients and compute the remining two\n",
    "# Hint: You can fix the coefficient of the brightest colour channel to 1.\n",
    "kr = \n",
    "kg = \n",
    "kb = \n",
    "\n",
    "# Apply color balancing and generate the balanced image\n",
    "balanced = \n",
    "\n",
    "# Show the original and the balanced image side by side\n",
    "plt.subplot(121), plt.imshow(img)\n",
    "plt.subplot(122), plt.imshow(balanced)"
   ]
  },
  {
   "cell_type": "markdown",
   "metadata": {},
   "source": [
    "### Scale-by-max\n",
    "This is a straightforward algorithm that scales each colour channel by its maximum value. Note that it is sensitive to noise and saturations."
   ]
  },
  {
   "cell_type": "code",
   "execution_count": null,
   "metadata": {},
   "outputs": [],
   "source": [
    "# Load your image\n",
    "img = cv2.imread('...')\n",
    "img = cv2.cvtColor(img, cv2.COLOR_BGR2RGB)\n",
    "\n",
    "# Compute the maximum values for all three colour channels (red, green, blue)\n",
    "max_r = \n",
    "max_g = \n",
    "max_b = \n",
    "\n",
    "# Apply scale-by-max balancing and generate the balanced image\n",
    "balanced =\n",
    "\n",
    "plt.subplot(121), plt.imshow(img)\n",
    "plt.subplot(122), plt.imshow(balanced)"
   ]
  }
 ],
 "metadata": {
  "kernelspec": {
   "display_name": "cv",
   "language": "python",
   "name": "cv"
  },
  "language_info": {
   "codemirror_mode": {
    "name": "ipython",
    "version": 3
   },
   "file_extension": ".py",
   "mimetype": "text/x-python",
   "name": "python",
   "nbconvert_exporter": "python",
   "pygments_lexer": "ipython3",
   "version": "3.8.10"
  }
 },
 "nbformat": 4,
 "nbformat_minor": 4
}
