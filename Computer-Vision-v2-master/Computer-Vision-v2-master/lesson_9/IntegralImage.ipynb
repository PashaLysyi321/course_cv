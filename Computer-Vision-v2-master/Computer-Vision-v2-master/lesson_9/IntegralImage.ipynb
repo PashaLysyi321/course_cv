{
 "cells": [
  {
   "cell_type": "markdown",
   "metadata": {},
   "source": [
    "### Integral Image\n",
    "\n",
    "Integral image is an extremely useful concept when we are facing the problem of summing up (rectangular) image regions (in pixel or in feature domain). In this notebook, we are going to show how to copmpute the integral image. In addition, we are going to measure the time for building a matrix holding the regional sums and compare the classical approach with the integral image approach."
   ]
  },
  {
   "cell_type": "code",
   "execution_count": null,
   "metadata": {},
   "outputs": [],
   "source": [
    "import cv2\n",
    "import numpy as np\n",
    "from time import perf_counter\n",
    "from matplotlib import pyplot as plt\n",
    "plt.rcParams['figure.figsize'] = [15, 10]"
   ]
  },
  {
   "cell_type": "markdown",
   "metadata": {},
   "source": [
    "Let's load an example image."
   ]
  },
  {
   "cell_type": "code",
   "execution_count": null,
   "metadata": {
    "scrolled": true
   },
   "outputs": [],
   "source": [
    "img = cv2.imread('/home/janko/Pictures/janko2.jpg')\n",
    "img = cv2.cvtColor(img, cv2.COLOR_BGR2GRAY)\n",
    "plt.imshow(img, cmap='gray')\n",
    "img = img/255"
   ]
  },
  {
   "cell_type": "markdown",
   "metadata": {},
   "source": [
    "### Regional Sums\n",
    "\n",
    "In face detection, computing the regional pixel sums (for evaluating the Haar basis functions) is a crucial step. For this example, we are now going to huild the sum matrix using a 15x15 sliding window. For the sake of simplicity, we won't bother with the border areas."
   ]
  },
  {
   "cell_type": "code",
   "execution_count": null,
   "metadata": {},
   "outputs": [],
   "source": [
    "rows, cols = img.shape\n",
    "win = 15\n",
    "sums = np.zeros((rows, cols))\n",
    "\n",
    "# Start the computation\n",
    "start = perf_counter()\n",
    "# Sliding window\n",
    "for r in range(win, rows-win-1):\n",
    "    for c in range(win, cols-win-1):\n",
    "        # Sum of pixel under the curren window\n",
    "        sums[r, c] = np.sum(img[r-win:r+win+1, c-win:c+win+1])        \n",
    "# Elapsed time for building the matrix of regional sums\n",
    "elapsed = perf_counter() - start\n",
    "print('Elapsed time:', elapsed)"
   ]
  },
  {
   "cell_type": "markdown",
   "metadata": {},
   "source": [
    "### Integral Image\n",
    "\n",
    "As we see above, building the sum matrix using the sliding window approach is quite slow. In fact, it is prohibitevly slow for real-time applications. Fortunately, we can make use of the integral image. Let's first build the integral image and then use it to build the matrix of regional sums."
   ]
  },
  {
   "cell_type": "code",
   "execution_count": null,
   "metadata": {},
   "outputs": [],
   "source": [
    "sums_int_img = np.zeros((rows, cols))\n",
    "\n",
    "start = perf_counter()\n",
    "# Build integral image\n",
    "int_img = img.cumsum(axis=0).cumsum(axis=1)\n",
    "# Sliding window\n",
    "for r in range(win, rows-win-1):\n",
    "    for c in range(win, cols-win-1):\n",
    "        # Summation of only 4 elements\n",
    "        sums_int_img[r, c] = int_img[r+win, c+win] - \\\n",
    "                             int_img[r+win, c-win-1] - \\\n",
    "                             int_img[r-win-1, c+win] + \\\n",
    "                             int_img[r-win-1, c-win-1]\n",
    "                        \n",
    "elapsed = perf_counter() - start\n",
    "print('Elapsed time:', elapsed)"
   ]
  },
  {
   "cell_type": "markdown",
   "metadata": {},
   "source": [
    "By using the integral image the computation time has decreased 4 times! Not bad, but can we do better? We know that python is not extremely efficient when it comes to loops. Therefore, can we get (somehow) rid of them?\n",
    "\n",
    "The asnwer is that we can. We can obtain the same results but first adjusting the regional matrices (A. B, C, D) by rolling their axes. Afterwards, the calculation of the matrix of regional sums is just a summation of four matrices."
   ]
  },
  {
   "cell_type": "code",
   "execution_count": null,
   "metadata": {},
   "outputs": [],
   "source": [
    "start = perf_counter()\n",
    "# Build integral image\n",
    "int_img = img.cumsum(axis=0).cumsum(axis=1)\n",
    "# Build matrices for A, B, C and D regions (by axis rolling)\n",
    "# Note: positive shift parameter rolls to the left,\n",
    "# therefore the signs are inverted when compared to the loop above\n",
    "A = np.roll(np.roll(int_img, win+1, axis=0), win+1, axis=1)\n",
    "B = np.roll(np.roll(int_img, win+1, axis=0), -win, axis=1)\n",
    "C = np.roll(np.roll(int_img, -win, axis=0), win+1, axis=1)\n",
    "D = np.roll(np.roll(int_img, -win, axis=0), -win, axis=1)\n",
    "\n",
    "result = D - B - C + A\n",
    "elapsed = perf_counter() - start\n",
    "print('Elapsed time:', elapsed)"
   ]
  },
  {
   "cell_type": "markdown",
   "metadata": {},
   "source": [
    "We have managed to reduce the time much further. The computation is now around 100 times faster!"
   ]
  },
  {
   "cell_type": "code",
   "execution_count": null,
   "metadata": {},
   "outputs": [],
   "source": [
    "# Lets check the results\n",
    "N = 400\n",
    "print(sums[N, N])\n",
    "print(sums_int_img[N, N])\n",
    "print(result[N, N])"
   ]
  },
  {
   "cell_type": "code",
   "execution_count": null,
   "metadata": {},
   "outputs": [],
   "source": [
    "# Average diff between sliding window vs integral image\n",
    "np.mean(np.abs(sums[win+1:-win-1, win+1:-win-1] - sums_int_img[win+1:-win-1, win+1:-win-1]))"
   ]
  },
  {
   "cell_type": "code",
   "execution_count": null,
   "metadata": {},
   "outputs": [],
   "source": [
    "# Average diff between integral image vs \"clever\" integral image\n",
    "np.mean(np.abs(sums_int_img[win+1:-win-1, win+1:-win-1] - result[win+1:-win-1, win+1:-win-1]))"
   ]
  }
 ],
 "metadata": {
  "kernelspec": {
   "display_name": "cv",
   "language": "python",
   "name": "cv"
  },
  "language_info": {
   "codemirror_mode": {
    "name": "ipython",
    "version": 3
   },
   "file_extension": ".py",
   "mimetype": "text/x-python",
   "name": "python",
   "nbconvert_exporter": "python",
   "pygments_lexer": "ipython3",
   "version": "3.8.10"
  }
 },
 "nbformat": 4,
 "nbformat_minor": 4
}
