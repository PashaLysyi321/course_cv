{
 "cells": [
  {
   "cell_type": "markdown",
   "metadata": {},
   "source": [
    "### k-means\n",
    "\n",
    "K-means is an **unsupervised** clustering algorithm. It is an iterative optimization process that calculates the centroids (cluster centers) that minimize a certain metric (usually the Euclidean distance). In this notebook, we are going to implement a simple version of k-means to quantize a grayscale image."
   ]
  },
  {
   "cell_type": "code",
   "execution_count": null,
   "metadata": {},
   "outputs": [],
   "source": [
    "import cv2\n",
    "import math\n",
    "import numpy as np\n",
    "from matplotlib import pyplot as plt\n",
    "plt.rcParams['figure.figsize'] = [15, 10]"
   ]
  },
  {
   "cell_type": "code",
   "execution_count": null,
   "metadata": {},
   "outputs": [],
   "source": [
    "img = cv2.imread('data/kodim15.png')\n",
    "img = cv2.cvtColor(img, cv2.COLOR_BGR2GRAY)\n",
    "img = img/255"
   ]
  },
  {
   "cell_type": "markdown",
   "metadata": {},
   "source": [
    "Implementation of k-means iterations."
   ]
  },
  {
   "cell_type": "code",
   "execution_count": null,
   "metadata": {},
   "outputs": [],
   "source": [
    "num_clusters = 4                          # Number of clusters\n",
    "centroids = np.random.rand(num_clusters)  # Initialize the centroids (e.g. randomly)\n",
    "centroids = np.array([0, 0.1, 0.2, 0.3])\n",
    "\n",
    "history = [np.copy(centroids)]\n",
    "for iteration in range(0, 30):\n",
    "    # Cluster the pixels (i.e. for each pixel find the closest centroid)\n",
    "    # We are taking advantage of python broadcasting here\n",
    "    diff = np.abs(img[..., np.newaxis] - centroids[np.newaxis, np.newaxis, ...])\n",
    "    indices = np.argmin(diff, axis=-1)\n",
    "\n",
    "    # After pixel clustering, recompute the centroids\n",
    "    for ii in range(num_clusters):\n",
    "        centroids[ii] = np.mean(img[indices == ii])    \n",
    "    \n",
    "    # Check if centroids have hit the convergence\n",
    "    change = np.sum(np.abs(np.array(history[-1]) - centroids))\n",
    "    if change == 0:\n",
    "        print('Convergence hit at iteration ', iteration)\n",
    "        break\n",
    "        \n",
    "    # Update history (just for plotting purposes)\n",
    "    history.append(np.copy(centroids))\n",
    "        "
   ]
  },
  {
   "cell_type": "markdown",
   "metadata": {},
   "source": [
    "We plot the history to visualize the evolution of centroid updates."
   ]
  },
  {
   "cell_type": "code",
   "execution_count": null,
   "metadata": {},
   "outputs": [],
   "source": [
    "plt.plot(np.array(history))\n",
    "plt.xlabel('Iteration')\n",
    "plt.ylabel('Centroids')\n",
    "plt.grid(True)"
   ]
  },
  {
   "cell_type": "markdown",
   "metadata": {},
   "source": [
    "### Quantization\n",
    "\n",
    "After finding the centroids, i.e., the best fitting pallette of colours, we quantize the original image to the given palette."
   ]
  },
  {
   "cell_type": "code",
   "execution_count": null,
   "metadata": {},
   "outputs": [],
   "source": [
    "rows, cols = img.shape\n",
    "result = np.zeros_like(img)\n",
    "\n",
    "for r in range(rows):\n",
    "    for c in range(cols):\n",
    "        color_idx = np.argmin(np.abs(img[r,c] - centroids))\n",
    "        result[r, c] = centroids[color_idx]"
   ]
  },
  {
   "cell_type": "code",
   "execution_count": null,
   "metadata": {},
   "outputs": [],
   "source": [
    "plt.subplot(121), plt.imshow(img, cmap='gray')\n",
    "plt.subplot(122), plt.imshow(result, cmap='gray')"
   ]
  }
 ],
 "metadata": {
  "kernelspec": {
   "display_name": "cv",
   "language": "python",
   "name": "cv"
  },
  "language_info": {
   "codemirror_mode": {
    "name": "ipython",
    "version": 3
   },
   "file_extension": ".py",
   "mimetype": "text/x-python",
   "name": "python",
   "nbconvert_exporter": "python",
   "pygments_lexer": "ipython3",
   "version": "3.8.10"
  }
 },
 "nbformat": 4,
 "nbformat_minor": 4
}
