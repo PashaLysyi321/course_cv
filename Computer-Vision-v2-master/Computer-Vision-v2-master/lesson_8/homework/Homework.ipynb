{
 "cells": [
  {
   "cell_type": "markdown",
   "metadata": {},
   "source": [
    "# HOMEWORK 8\n",
    "\n",
    "In this homework you are going to implement your first machine learning algorithm to automatically binarize document images. The goal of document binarization is to seprate the characters (letters) from everything else. This is the crucial part for automatic document understanding and information extraction from the . In order to do so, you will use the Otsu thresholding algorithm.\n",
    "\n",
    "At the end of this notebook, there are a couple of questions for you to answer."
   ]
  },
  {
   "cell_type": "code",
   "execution_count": null,
   "metadata": {},
   "outputs": [],
   "source": [
    "import cv2\n",
    "import math\n",
    "import numpy as np\n",
    "from matplotlib import pyplot as plt\n",
    "plt.rcParams['figure.figsize'] = [15, 10]"
   ]
  },
  {
   "cell_type": "markdown",
   "metadata": {},
   "source": [
    "Let's load the document image we will be working on in this homework."
   ]
  },
  {
   "cell_type": "code",
   "execution_count": null,
   "metadata": {},
   "outputs": [],
   "source": [
    "img = cv2.imread('../data/document.jpg')\n",
    "img = cv2.cvtColor(img, cv2.COLOR_BGR2GRAY)\n",
    "plt.imshow(img, cmap='gray')"
   ]
  },
  {
   "cell_type": "markdown",
   "metadata": {},
   "source": [
    "First, let's have a look at the histogram."
   ]
  },
  {
   "cell_type": "code",
   "execution_count": null,
   "metadata": {
    "scrolled": true
   },
   "outputs": [],
   "source": [
    "h = np.histogram(img, 256)\n",
    "plt.bar(h[1][0:-1], h[0])\n",
    "plt.xlabel('Colour'), plt.ylabel('Count')\n",
    "plt.grid(True)"
   ]
  },
  {
   "cell_type": "markdown",
   "metadata": {},
   "source": [
    "### Otsu Thresholding\n",
    "\n",
    "Let's now implement the Otsu thresholding algorithm. Remember that the algorithm consists of an optimization process that finds the thresholds that minimizes the intra-class variance or, equivalently, maximizes the inter-class variance.\n",
    "\n",
    "In this homework, you are going to demonstrate the working principle of the Otsu algorithm. Therefore, you won't have to worry about an efficient implementation, we are going to use the brute force approach here."
   ]
  },
  {
   "cell_type": "code",
   "execution_count": null,
   "metadata": {
    "scrolled": true
   },
   "outputs": [],
   "source": [
    "# Get image dimensions\n",
    "rows, cols =\n",
    "# Compute the total amount of image pixels\n",
    "num_pixels =\n",
    "\n",
    "# Initializations\n",
    "best_wcv = 1e6  # Best within-class variance (wcv)\n",
    "opt_th = None   # Threshold corresponding to the best wcv\n",
    "\n",
    "# Brute force search using all possible thresholds (levels of gray)\n",
    "for th in range(0, 256):\n",
    "    # Extract the image pixels corresponding to the background\n",
    "    foreground =\n",
    "    # Extract the image pixels corresponding to the background\n",
    "    background =\n",
    "    \n",
    "    # If foreground or background are empty, continue\n",
    "    if len(foreground) == 0 or len(background) == 0:\n",
    "        continue\n",
    "    \n",
    "    # Compute class-weights (omega parameters) for foreground and background\n",
    "    omega_f =\n",
    "    omega_b =\n",
    "    \n",
    "    # Compute pixel variance for foreground and background\n",
    "    # Hint: Check out the var function from numpy ;-)\n",
    "    # https://numpy.org/doc/stable/reference/generated/numpy.var.html\n",
    "    sigma_f =\n",
    "    sigma_b =\n",
    "    \n",
    "    # Compute the within-class variance\n",
    "    wcv =\n",
    "    \n",
    "    # Perform the optimization\n",
    "    if wcv < best_wcv:\n",
    "        best =\n",
    "        opt_th =\n",
    "        \n",
    "# Print out the optimal threshold found by Otsu algorithm\n",
    "print('Optimal threshold', opt_th)"
   ]
  },
  {
   "cell_type": "markdown",
   "metadata": {},
   "source": [
    "Finally, let's compare the original image and its thresholded representation."
   ]
  },
  {
   "cell_type": "code",
   "execution_count": null,
   "metadata": {
    "scrolled": true
   },
   "outputs": [],
   "source": [
    "plt.subplot(121), plt.imshow(img, cmap='gray')\n",
    "plt.subplot(122), plt.imshow(img > opt_th, cmap='gray')"
   ]
  },
  {
   "cell_type": "markdown",
   "metadata": {},
   "source": [
    "### Questions\n",
    "\n",
    "* Looking at the computed histogram, could it be considered bimodal?\n",
    "* Looking at the computed histogram, what binarization threshold would you chose? Why?\n",
    "* Looking at the resulting (thresholded) image, is the text binarization (detection) good?"
   ]
  }
 ],
 "metadata": {
  "kernelspec": {
   "display_name": "cv",
   "language": "python",
   "name": "cv"
  },
  "language_info": {
   "codemirror_mode": {
    "name": "ipython",
    "version": 3
   },
   "file_extension": ".py",
   "mimetype": "text/x-python",
   "name": "python",
   "nbconvert_exporter": "python",
   "pygments_lexer": "ipython3",
   "version": "3.8.10"
  }
 },
 "nbformat": 4,
 "nbformat_minor": 4
}
